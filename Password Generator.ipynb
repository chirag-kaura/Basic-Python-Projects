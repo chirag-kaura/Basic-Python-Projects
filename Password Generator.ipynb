{
 "cells": [
  {
   "cell_type": "code",
   "execution_count": 1,
   "id": "62dfe239",
   "metadata": {},
   "outputs": [],
   "source": [
    "import random\n",
    "pass1=['a','b','c','d','e','f','g','h','i','j',\n",
    "       'k','l','m','n','o','p','q','r','s','t',\n",
    "       'u','v','w','x','y','z','A','B','C','D',\n",
    "       'E','F','G','H','I','J','K','L','M','N',\n",
    "       'O','P','Q','R','S','T','U','V','W','X',\n",
    "       'Y','Z','0','1','2','3','4','5','6','7',\n",
    "       '8','9',' ','!','@','#','$','%','^','&',\n",
    "       '*','(',')']"
   ]
  },
  {
   "cell_type": "code",
   "execution_count": 2,
   "id": "d040fd9d",
   "metadata": {},
   "outputs": [],
   "source": [
    "# declaring the empty string\n",
    "password =\"\""
   ]
  },
  {
   "cell_type": "code",
   "execution_count": 3,
   "id": "afbd794a",
   "metadata": {},
   "outputs": [],
   "source": [
    "#loop to generate the random password of the length entered by the user\n",
    "for x in range(16):\n",
    "    password=password + random.choices(pass1)[0]"
   ]
  },
  {
   "cell_type": "code",
   "execution_count": 4,
   "id": "4c7ff7e0",
   "metadata": {},
   "outputs": [
    {
     "name": "stdout",
     "output_type": "stream",
     "text": [
      "Your New Password is:\n",
      " 61Qv7P!wXU9v*W7B\n"
     ]
    }
   ],
   "source": [
    "print('Your New Password is:\\n',password)"
   ]
  }
 ],
 "metadata": {
  "kernelspec": {
   "display_name": "Python 3 (ipykernel)",
   "language": "python",
   "name": "python3"
  },
  "language_info": {
   "codemirror_mode": {
    "name": "ipython",
    "version": 3
   },
   "file_extension": ".py",
   "mimetype": "text/x-python",
   "name": "python",
   "nbconvert_exporter": "python",
   "pygments_lexer": "ipython3",
   "version": "3.10.2"
  }
 },
 "nbformat": 4,
 "nbformat_minor": 5
}
